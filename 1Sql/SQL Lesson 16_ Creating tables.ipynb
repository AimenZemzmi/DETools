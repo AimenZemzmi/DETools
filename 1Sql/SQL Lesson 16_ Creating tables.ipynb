{
 "cells": [
  {
   "cell_type": "markdown",
   "metadata": {},
   "source": [
    "# Leçon SQL 16: Création de tables"
   ]
  },
  {
   "cell_type": "markdown",
   "metadata": {},
   "source": [
    "Lorsque vous avez de nouvelles entités et relations à stocker dans votre base de données, vous pouvez créer une nouvelle table de base de données à l'aide de l' instruction **CREATE TABLE**."
   ]
  },
  {
   "cell_type": "markdown",
   "metadata": {},
   "source": [
    "Créer une instruction de table avec une contrainte de table facultative et une valeur par défaut\n",
    "``` mysql \n",
    "CREATE TABLE IF NOT EXISTS mytable (\n",
    "    column DataType TableConstraint DEFAULT default_value,\n",
    "    another_column DataType TableConstraint DEFAULT default_value,\n",
    "    …\n",
    ");\n",
    "```"
   ]
  },
  {
   "cell_type": "markdown",
   "metadata": {},
   "source": [
    "La structure de la nouvelle table est définie par son *schéma de table*, qui définit une série de colonnes. Chaque colonne a un nom, le type de données autorisé dans cette colonne, une contrainte de table *facultative* sur les valeurs insérées et une valeur par défaut facultative."
   ]
  },
  {
   "cell_type": "markdown",
   "metadata": {},
   "source": [
    "S'il existe déjà une table avec le même nom, l'implémentation SQL lèvera généralement une erreur, donc pour supprimer l'erreur et ignorer la création d'une table s'il en existe une, vous pouvez utiliser la clause **IF NOT EXISTS**."
   ]
  },
  {
   "cell_type": "markdown",
   "metadata": {},
   "source": [
    "## Types de données de table\n"
   ]
  },
  {
   "cell_type": "markdown",
   "metadata": {},
   "source": [
    "Différentes bases de données prennent en charge différents types de données, mais les types courants prennent en charge des données numériques, des chaînes et d'autres éléments divers tels que des dates, des booléens ou même des données binaires. Voici quelques exemples que vous pourriez utiliser dans du code réel.\n",
    "\n"
   ]
  },
  {
   "cell_type": "code",
   "execution_count": 1,
   "metadata": {
    "ExecuteTime": {
     "end_time": "2021-01-18T16:32:04.259534Z",
     "start_time": "2021-01-18T16:32:04.255955Z"
    }
   },
   "outputs": [],
   "source": [
    "x=\"\"\"Type de données\tLa description\n",
    "INTEGER, BOOLEAN\tLes types de données entiers peuvent stocker des valeurs entières entières comme le décompte d'un nombre ou d'un âge. Dans certaines implémentations, la valeur booléenne est simplement représentée comme une valeur entière de seulement 0 ou 1.\n",
    "FLOAT, DOUBLE,REAL\tLes types de données à virgule flottante peuvent stocker des données numériques plus précises telles que des mesures ou des valeurs fractionnaires. Différents types peuvent être utilisés en fonction de la précision en virgule flottante requise pour cette valeur.\n",
    "CHARACTER(num_chars), VARCHAR(num_chars),TEXT\tLes types de données basés sur du texte peuvent stocker des chaînes et du texte dans toutes sortes de paramètres régionaux. La distinction entre les différents types revient généralement à sous-tendre l'efficacité de la base de données lors de l'utilisation de ces colonnes. Les types CHARACTER et VARCHAR (caractère variable) sont spécifiés avec le nombre maximum de caractères qu'ils peuvent stocker (les valeurs plus longues peuvent être tronquées), il peut donc être plus efficace de stocker et d'interroger avec de grandes tables.\n",
    "DATE, DATETIME\tSQL peut également stocker des horodatages pour garder une trace des séries chronologiques et des données d'événements. Ils peuvent être difficiles à utiliser, en particulier lors de la manipulation de données entre les fuseaux horaires.\n",
    "BLOB\tEnfin, SQL peut stocker des données binaires dans des objets blob directement dans la base de données. Ces valeurs sont souvent opaques pour la base de données, vous devez donc généralement les stocker avec les bonnes métadonnées pour les actualiser\"\"\""
   ]
  },
  {
   "cell_type": "code",
   "execution_count": 2,
   "metadata": {
    "ExecuteTime": {
     "end_time": "2021-01-18T16:32:04.528148Z",
     "start_time": "2021-01-18T16:32:04.523755Z"
    }
   },
   "outputs": [],
   "source": [
    "import pandas as pd\n",
    "\n",
    "def to_df(s):\n",
    "    l= [elt.split(';') for elt in s.replace(\"\t\", \";\").split('\\n')]\n",
    "    return pd.DataFrame(l[1:], columns=l[0])"
   ]
  },
  {
   "cell_type": "code",
   "execution_count": 3,
   "metadata": {
    "ExecuteTime": {
     "end_time": "2021-01-18T16:32:05.179736Z",
     "start_time": "2021-01-18T16:32:05.175671Z"
    }
   },
   "outputs": [],
   "source": [
    "ttypes = to_df(x)"
   ]
  },
  {
   "cell_type": "code",
   "execution_count": 4,
   "metadata": {
    "ExecuteTime": {
     "end_time": "2021-01-18T16:32:06.406399Z",
     "start_time": "2021-01-18T16:32:06.386178Z"
    }
   },
   "outputs": [
    {
     "data": {
      "text/html": [
       "<div>\n",
       "<style>\n",
       "    .dataframe thead tr:only-child th {\n",
       "        text-align: right;\n",
       "    }\n",
       "\n",
       "    .dataframe thead th {\n",
       "        text-align: left;\n",
       "    }\n",
       "\n",
       "    .dataframe tbody tr th {\n",
       "        vertical-align: top;\n",
       "    }\n",
       "</style>\n",
       "<table border=\"1\" class=\"dataframe\">\n",
       "  <thead>\n",
       "    <tr style=\"text-align: right;\">\n",
       "      <th></th>\n",
       "      <th>Type de données</th>\n",
       "      <th>La description</th>\n",
       "    </tr>\n",
       "  </thead>\n",
       "  <tbody>\n",
       "    <tr>\n",
       "      <th>0</th>\n",
       "      <td>INTEGER, BOOLEAN</td>\n",
       "      <td>Les types de données entiers peuvent stocker d...</td>\n",
       "    </tr>\n",
       "    <tr>\n",
       "      <th>1</th>\n",
       "      <td>FLOAT, DOUBLE,REAL</td>\n",
       "      <td>Les types de données à virgule flottante peuve...</td>\n",
       "    </tr>\n",
       "    <tr>\n",
       "      <th>2</th>\n",
       "      <td>CHARACTER(num_chars), VARCHAR(num_chars),TEXT</td>\n",
       "      <td>Les types de données basés sur du texte peuven...</td>\n",
       "    </tr>\n",
       "    <tr>\n",
       "      <th>3</th>\n",
       "      <td>DATE, DATETIME</td>\n",
       "      <td>SQL peut également stocker des horodatages pou...</td>\n",
       "    </tr>\n",
       "    <tr>\n",
       "      <th>4</th>\n",
       "      <td>BLOB</td>\n",
       "      <td>Enfin, SQL peut stocker des données binaires d...</td>\n",
       "    </tr>\n",
       "  </tbody>\n",
       "</table>\n",
       "</div>"
      ],
      "text/plain": [
       "                                 Type de données  \\\n",
       "0                               INTEGER, BOOLEAN   \n",
       "1                             FLOAT, DOUBLE,REAL   \n",
       "2  CHARACTER(num_chars), VARCHAR(num_chars),TEXT   \n",
       "3                                 DATE, DATETIME   \n",
       "4                                           BLOB   \n",
       "\n",
       "                                      La description  \n",
       "0  Les types de données entiers peuvent stocker d...  \n",
       "1  Les types de données à virgule flottante peuve...  \n",
       "2  Les types de données basés sur du texte peuven...  \n",
       "3  SQL peut également stocker des horodatages pou...  \n",
       "4  Enfin, SQL peut stocker des données binaires d...  "
      ]
     },
     "execution_count": 4,
     "metadata": {},
     "output_type": "execute_result"
    }
   ],
   "source": [
    "ttypes"
   ]
  },
  {
   "cell_type": "markdown",
   "metadata": {},
   "source": [
    "## Contraintes de table"
   ]
  },
  {
   "cell_type": "markdown",
   "metadata": {},
   "source": [
    "Nous n'allons pas plonger trop profondément dans les contraintes de table dans cette leçon, mais chaque colonne peut avoir des contraintes de table supplémentaires qui limitent les valeurs qui peuvent être insérées dans cette colonne. Cette liste n'est pas exhaustive, mais elle montrera quelques contraintes courantes que vous pourriez trouver utiles."
   ]
  },
  {
   "cell_type": "code",
   "execution_count": 5,
   "metadata": {
    "ExecuteTime": {
     "end_time": "2021-01-18T16:33:26.638047Z",
     "start_time": "2021-01-18T16:33:26.635089Z"
    }
   },
   "outputs": [],
   "source": [
    "y=\"\"\"Contrainte\tLa description\n",
    "PRIMARY KEY\tCela signifie que les valeurs de cette colonne sont uniques et que chaque valeur peut être utilisée pour identifier une seule ligne dans ce tableau.\n",
    "AUTOINCREMENT\tPour les valeurs entières, cela signifie que la valeur est automatiquement renseignée et incrémentée à chaque insertion de ligne. Non pris en charge dans toutes les bases de données.\n",
    "UNIQUE\tCela signifie que les valeurs de cette colonne doivent être uniques, vous ne pouvez donc pas insérer une autre ligne avec la même valeur dans cette colonne qu'une autre ligne du tableau. Diffère de la «PRIMARY KEY» en ce qu'elle ne doit pas nécessairement être une clé pour une ligne dans la table.\n",
    "NOT NULL\tCela signifie que la valeur insérée ne peut pas être «NULL».\n",
    "CHECK (expression)\tCela vous permet d'exécuter une expression plus complexe pour tester si les valeurs insérées sont valides. Par exemple, vous pouvez vérifier que les valeurs sont positives, ou supérieures à une taille spécifique, ou commencer par un certain préfixe, etc.\n",
    "FOREIGN KEY\tIl s'agit d'un contrôle de cohérence qui garantit que chaque valeur de cette colonne correspond à une autre valeur d'une colonne d'une autre table. Par exemple, s'il y a deux tables, une répertoriant tous les employés par ID et une autre répertoriant leurs informations de paie, la `FOREIGN KEY` peut garantir que chaque ligne de la table de paie correspond à un employé valide dans la liste principale des employés.\"\"\""
   ]
  },
  {
   "cell_type": "code",
   "execution_count": 6,
   "metadata": {
    "ExecuteTime": {
     "end_time": "2021-01-18T16:33:40.768593Z",
     "start_time": "2021-01-18T16:33:40.764470Z"
    }
   },
   "outputs": [],
   "source": [
    "cttables = to_df(y)"
   ]
  },
  {
   "cell_type": "code",
   "execution_count": 7,
   "metadata": {
    "ExecuteTime": {
     "end_time": "2021-01-18T16:33:43.315083Z",
     "start_time": "2021-01-18T16:33:43.306385Z"
    }
   },
   "outputs": [
    {
     "data": {
      "text/html": [
       "<div>\n",
       "<style>\n",
       "    .dataframe thead tr:only-child th {\n",
       "        text-align: right;\n",
       "    }\n",
       "\n",
       "    .dataframe thead th {\n",
       "        text-align: left;\n",
       "    }\n",
       "\n",
       "    .dataframe tbody tr th {\n",
       "        vertical-align: top;\n",
       "    }\n",
       "</style>\n",
       "<table border=\"1\" class=\"dataframe\">\n",
       "  <thead>\n",
       "    <tr style=\"text-align: right;\">\n",
       "      <th></th>\n",
       "      <th>Contrainte</th>\n",
       "      <th>La description</th>\n",
       "    </tr>\n",
       "  </thead>\n",
       "  <tbody>\n",
       "    <tr>\n",
       "      <th>0</th>\n",
       "      <td>PRIMARY KEY</td>\n",
       "      <td>Cela signifie que les valeurs de cette colonne...</td>\n",
       "    </tr>\n",
       "    <tr>\n",
       "      <th>1</th>\n",
       "      <td>AUTOINCREMENT</td>\n",
       "      <td>Pour les valeurs entières, cela signifie que l...</td>\n",
       "    </tr>\n",
       "    <tr>\n",
       "      <th>2</th>\n",
       "      <td>UNIQUE</td>\n",
       "      <td>Cela signifie que les valeurs de cette colonne...</td>\n",
       "    </tr>\n",
       "    <tr>\n",
       "      <th>3</th>\n",
       "      <td>NOT NULL</td>\n",
       "      <td>Cela signifie que la valeur insérée ne peut pa...</td>\n",
       "    </tr>\n",
       "    <tr>\n",
       "      <th>4</th>\n",
       "      <td>CHECK (expression)</td>\n",
       "      <td>Cela vous permet d'exécuter une expression plu...</td>\n",
       "    </tr>\n",
       "    <tr>\n",
       "      <th>5</th>\n",
       "      <td>FOREIGN KEY</td>\n",
       "      <td>Il s'agit d'un contrôle de cohérence qui garan...</td>\n",
       "    </tr>\n",
       "  </tbody>\n",
       "</table>\n",
       "</div>"
      ],
      "text/plain": [
       "           Contrainte                                     La description\n",
       "0         PRIMARY KEY  Cela signifie que les valeurs de cette colonne...\n",
       "1       AUTOINCREMENT  Pour les valeurs entières, cela signifie que l...\n",
       "2              UNIQUE  Cela signifie que les valeurs de cette colonne...\n",
       "3            NOT NULL  Cela signifie que la valeur insérée ne peut pa...\n",
       "4  CHECK (expression)  Cela vous permet d'exécuter une expression plu...\n",
       "5         FOREIGN KEY  Il s'agit d'un contrôle de cohérence qui garan..."
      ]
     },
     "execution_count": 7,
     "metadata": {},
     "output_type": "execute_result"
    }
   ],
   "source": [
    "cttables"
   ]
  },
  {
   "cell_type": "markdown",
   "metadata": {},
   "source": [
    "## Un exemple"
   ]
  },
  {
   "cell_type": "markdown",
   "metadata": {},
   "source": [
    "Schéma de la table Movies\n",
    "``` mysql \n",
    "CREATE TABLE movies (\n",
    "    id INTEGER PRIMARY KEY,\n",
    "    title TEXT,\n",
    "    director TEXT,\n",
    "    year INTEGER, \n",
    "    length_minutes INTEGER\n",
    ");\n",
    "```"
   ]
  },
  {
   "cell_type": "markdown",
   "metadata": {},
   "source": [
    "## Exercise"
   ]
  },
  {
   "cell_type": "markdown",
   "metadata": {},
   "source": [
    "Dans cet exercice, vous devrez créer une nouvelle table dans laquelle insérer de nouvelles lignes."
   ]
  },
  {
   "cell_type": "markdown",
   "metadata": {},
   "source": [
    "**IMPORTANT : Afin de répondre aux questions de l'exercise d'insérer la requête entre les doubles quotes \" \"**"
   ]
  },
  {
   "cell_type": "code",
   "execution_count": 8,
   "metadata": {
    "ExecuteTime": {
     "end_time": "2021-01-18T14:27:09.744670Z",
     "start_time": "2021-01-18T14:27:09.595039Z"
    }
   },
   "outputs": [],
   "source": [
    "from pandasql import sqldf"
   ]
  },
  {
   "cell_type": "markdown",
   "metadata": {},
   "source": [
    "Créez une nouvelle table nommée Databaseavec les colonnes suivantes:\n",
    "- Name: Une chaîne (texte) décrivant le nom de la base de données\n",
    "- Version: Un nombre (virgule flottante) de la dernière version de cette base de données\n",
    "- Download_count: Un nombre entier du nombre de fois que cette base de données a été téléchargée\n",
    "Cette table n'a aucune contrainte."
   ]
  },
  {
   "cell_type": "code",
   "execution_count": 9,
   "metadata": {
    "ExecuteTime": {
     "end_time": "2021-01-18T14:28:09.886634Z",
     "start_time": "2021-01-18T14:28:09.883564Z"
    }
   },
   "outputs": [],
   "source": [
    "QUERY1 = \"\"\"\n",
    "CREATE TABLE Database (\n",
    "  Name VARCHAR,\n",
    "  Version FLOAT,\n",
    "  Download_count UNSIGNED INTEGER\n",
    ")\n",
    "\"\"\""
   ]
  },
  {
   "cell_type": "code",
   "execution_count": 10,
   "metadata": {
    "ExecuteTime": {
     "end_time": "2021-01-18T14:28:11.183492Z",
     "start_time": "2021-01-18T14:28:11.159723Z"
    }
   },
   "outputs": [],
   "source": [
    "sqldf(QUERY1)"
   ]
  },
  {
   "cell_type": "code",
   "execution_count": null,
   "metadata": {},
   "outputs": [],
   "source": []
  },
  {
   "cell_type": "code",
   "execution_count": null,
   "metadata": {},
   "outputs": [],
   "source": []
  },
  {
   "cell_type": "code",
   "execution_count": null,
   "metadata": {},
   "outputs": [],
   "source": []
  }
 ],
 "metadata": {
  "kernelspec": {
   "display_name": "Python 3",
   "language": "python",
   "name": "python3"
  },
  "language_info": {
   "codemirror_mode": {
    "name": "ipython",
    "version": 3
   },
   "file_extension": ".py",
   "mimetype": "text/x-python",
   "name": "python",
   "nbconvert_exporter": "python",
   "pygments_lexer": "ipython3",
   "version": "3.6.12"
  }
 },
 "nbformat": 4,
 "nbformat_minor": 1
}
